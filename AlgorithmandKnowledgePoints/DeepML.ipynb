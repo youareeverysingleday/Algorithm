{
 "cells": [
  {
   "cell_type": "markdown",
   "id": "5019cf91",
   "metadata": {},
   "source": [
    "# Deep ML"
   ]
  },
  {
   "cell_type": "markdown",
   "id": "26568846",
   "metadata": {},
   "source": [
    " ## 线性代数"
   ]
  },
  {
   "cell_type": "markdown",
   "id": "10c04303",
   "metadata": {},
   "source": [
    "## 机器学习"
   ]
  },
  {
   "cell_type": "markdown",
   "id": "7eb3b1c4",
   "metadata": {},
   "source": [
    "### Linear Regression Using Normal Equation\n",
    "\n",
    "Write a Python function that performs linear regression using the normal equation. The function should take a matrix X (features) and a vector y (target) as input, and return the coefficients of the linear regression model. Round your answer to four decimal places, -0.0 is a valid result for rounding a very small number.\n",
    "\n",
    "Reasoning:\n",
    "    The linear model is y = 0.0 + 1.0*x, perfectly fitting the input data."
   ]
  },
  {
   "cell_type": "code",
   "execution_count": 1,
   "id": "7ad7eeff",
   "metadata": {},
   "outputs": [
    {
     "data": {
      "text/plain": [
       "[-0.0, 1.0]"
      ]
     },
     "execution_count": 1,
     "metadata": {},
     "output_type": "execute_result"
    }
   ],
   "source": [
    "import numpy as np\n",
    "def linear_regression_normal_equation(X: list[list[float]], y: list[float]) -> list[float]:\n",
    "    X = np.array(X)\n",
    "    y = np.array(y).reshape(-1, 1)\n",
    "    X_transpose = X.T\n",
    "    theta = np.linalg.inv(X_transpose.dot(X)).dot(X_transpose).dot(y)\n",
    "    theta = np.round(theta, 4).flatten().tolist()\n",
    "    return theta\n",
    "\n",
    "\n",
    "X = [[1, 1], [1, 2], [1, 3]]\n",
    "y = [1, 2, 3]\n",
    "\n",
    "theta = linear_regression_normal_equation(X, y)\n",
    "theta"
   ]
  }
 ],
 "metadata": {
  "kernelspec": {
   "display_name": "Python 3",
   "language": "python",
   "name": "python3"
  },
  "language_info": {
   "codemirror_mode": {
    "name": "ipython",
    "version": 3
   },
   "file_extension": ".py",
   "mimetype": "text/x-python",
   "name": "python",
   "nbconvert_exporter": "python",
   "pygments_lexer": "ipython3",
   "version": "3.9.13"
  }
 },
 "nbformat": 4,
 "nbformat_minor": 5
}
