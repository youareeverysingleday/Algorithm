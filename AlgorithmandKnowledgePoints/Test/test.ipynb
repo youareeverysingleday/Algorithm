{
 "cells": [
  {
   "cell_type": "code",
   "execution_count": 1,
   "id": "66e899a3",
   "metadata": {},
   "outputs": [
    {
     "name": "stdout",
     "output_type": "stream",
     "text": [
      "[[-1.22474487 -1.22474487]\n",
      " [ 0.          0.        ]\n",
      " [ 1.22474487  1.22474487]]\n"
     ]
    }
   ],
   "source": [
    "import numpy as np\n",
    "from scipy.stats import zscore\n",
    "\n",
    "data = np.array([[10, 20], [30, 40], [50, 60]])\n",
    "z = zscore(data)\n",
    "print(z)"
   ]
  },
  {
   "cell_type": "code",
   "execution_count": 2,
   "id": "8939e5cc",
   "metadata": {},
   "outputs": [
    {
     "name": "stdout",
     "output_type": "stream",
     "text": [
      "     height    weight\n",
      "0 -1.224745 -1.224745\n",
      "1  0.000000  0.000000\n",
      "2  1.224745  1.224745\n"
     ]
    }
   ],
   "source": [
    "import pandas as pd\n",
    "from scipy.stats import zscore\n",
    "\n",
    "df = pd.DataFrame({\n",
    "    'height': [160, 170, 180],\n",
    "    'weight': [55, 65, 75]\n",
    "})\n",
    "\n",
    "df_z = df.apply(zscore)\n",
    "print(df_z)"
   ]
  },
  {
   "cell_type": "code",
   "execution_count": 5,
   "id": "b73cdc6a",
   "metadata": {},
   "outputs": [
    {
     "name": "stdout",
     "output_type": "stream",
     "text": [
      "   height  weight  height_z\n",
      "0     160      55 -1.224745\n",
      "1     170      65  0.000000\n",
      "2     180      75  1.224745\n"
     ]
    },
    {
     "data": {
      "text/html": [
       "<div>\n",
       "<style scoped>\n",
       "    .dataframe tbody tr th:only-of-type {\n",
       "        vertical-align: middle;\n",
       "    }\n",
       "\n",
       "    .dataframe tbody tr th {\n",
       "        vertical-align: top;\n",
       "    }\n",
       "\n",
       "    .dataframe thead th {\n",
       "        text-align: right;\n",
       "    }\n",
       "</style>\n",
       "<table border=\"1\" class=\"dataframe\">\n",
       "  <thead>\n",
       "    <tr style=\"text-align: right;\">\n",
       "      <th></th>\n",
       "      <th>height</th>\n",
       "      <th>weight</th>\n",
       "      <th>height_z</th>\n",
       "    </tr>\n",
       "  </thead>\n",
       "  <tbody>\n",
       "  </tbody>\n",
       "</table>\n",
       "</div>"
      ],
      "text/plain": [
       "Empty DataFrame\n",
       "Columns: [height, weight, height_z]\n",
       "Index: []"
      ]
     },
     "execution_count": 5,
     "metadata": {},
     "output_type": "execute_result"
    }
   ],
   "source": [
    "z = zscore(df['height'])\n",
    "df['height_z'] = z\n",
    "print(df)\n",
    "outliers = df[np.abs(df['height_z']) > 2]\n",
    "outliers"
   ]
  },
  {
   "cell_type": "code",
   "execution_count": 2,
   "id": "365f26af",
   "metadata": {},
   "outputs": [
    {
     "data": {
      "text/plain": [
       "<Signature (penalty='l2', *, dual=False, tol=0.0001, C=1.0, fit_intercept=True, intercept_scaling=1, class_weight=None, random_state=None, solver='lbfgs', max_iter=100, multi_class='deprecated', verbose=0, warm_start=False, n_jobs=None, l1_ratio=None)>"
      ]
     },
     "execution_count": 2,
     "metadata": {},
     "output_type": "execute_result"
    }
   ],
   "source": [
    "from sklearn.linear_model import LogisticRegression\n",
    "import inspect\n",
    "inspect.signature(LogisticRegression)"
   ]
  },
  {
   "cell_type": "markdown",
   "id": "2738b964",
   "metadata": {},
   "source": [
    "在一片广袤的沙滩上，小 Q 在捡贝壳，他对每一个贝壳都有一个“喜爱度”。目前已知沙滩上有 n 个贝壳，他的口袋可以装下m 个贝壳，因为他太喜欢贝壳了，所以他一定会把口袋装满。小 Q 的开心程度与口袋里贝壳的“喜爱度”有关，即口袋里所有贝壳的“喜爱度”作与运算之后的结果，就是小 Q 的开心程度。请你帮忙计算他的开心程度最大是多少。"
   ]
  },
  {
   "cell_type": "code",
   "execution_count": null,
   "id": "bc07b139",
   "metadata": {},
   "outputs": [
    {
     "name": "stdout",
     "output_type": "stream",
     "text": [
      "5\n"
     ]
    }
   ],
   "source": [
    "def max_happiness(arr, m):\n",
    "    # m = input()\n",
    "    # n = input()\n",
    "    # arr = list(map(int,input().split(' ')))\n",
    "    candidates = arr[:]\n",
    "    ans = 0\n",
    "    for bit in reversed(range(32)):  # 从高位到低位\n",
    "        mask = 1 << bit\n",
    "        # 筛选保留当前位为 1 且和已有 ans 的位一致的数\n",
    "        filtered = [x for x in candidates if (x & mask) and ((x & ans) == ans)]\n",
    "        if len(filtered) >= m:\n",
    "            ans |= mask\n",
    "            candidates = filtered\n",
    "    # 从 candidates 中任选 m 个计算最终 & 值\n",
    "    from itertools import combinations\n",
    "    max_and = 0\n",
    "    for comb in combinations(candidates, m):\n",
    "        res = comb[0]\n",
    "        for num in comb[1:]:\n",
    "            res &= num\n",
    "        max_and = max(max_and, res)\n",
    "    return max_and\n",
    "\n",
    "\n",
    "n = 5\n",
    "m = 3\n",
    "likes = [5, 7, 15, 3, 9]\n",
    "print(max_happiness(likes, m))"
   ]
  },
  {
   "cell_type": "code",
   "execution_count": null,
   "id": "446d71a6",
   "metadata": {},
   "outputs": [],
   "source": [
    "from itertools import combinations\n",
    "\n",
    "n = int(input())\n",
    "m = int(input())\n",
    "likes = input()\n",
    "arr = [int(i) for i in likes if i != ' ']\n",
    "candidates = arr[:]\n",
    "ans = 0\n",
    "for bit in reversed(range(32)):  # 从高位到低位\n",
    "    mask = 1 << bit\n",
    "    # 筛选保留当前位为 1 且和已有 ans 的位一致的数\n",
    "    filtered = [x for x in candidates if (x & mask) and ((x & ans) == ans)]\n",
    "    if len(filtered) >= m:\n",
    "        ans |= mask\n",
    "        candidates = filtered\n",
    "# 从 candidates 中任选 m 个计算最终 & 值\n",
    "\n",
    "max_and = 0\n",
    "for comb in combinations(candidates, m):\n",
    "    res = comb[0]\n",
    "    for num in comb[1:]:\n",
    "        res &= num\n",
    "    max_and = max(max_and, res)\n",
    "print(max_and)"
   ]
  },
  {
   "cell_type": "markdown",
   "id": "b61d2551",
   "metadata": {},
   "source": [
    "2 10 7 3 71"
   ]
  },
  {
   "cell_type": "markdown",
   "id": "b6553fae",
   "metadata": {},
   "source": [
    "秋天是收获的季节。农民小 Q 有一片 $n × m$ 的麦田，麦田每一块地可以收获 $a_{ij} (1<i<n, 1<j<m)$吨重的小麦 。这天小 Q 家里来了一位收麦员，收麦员最多可以接收 M 吨小麦，小 Q 要将小麦卖给收麦员赚钱！小 Q 是一个完美主义者，他只会将麦田里一块完整的矩形区域收割售卖。与收麦员交易需要一定的手续费，但是收麦员对于小 Q 的收割要求很感兴趣，他提出如果小 Q 可以计算出他的麦田有多少种收割方式，那么将免除手续费。请你帮小 Q 省下这笔手续费。"
   ]
  },
  {
   "cell_type": "code",
   "execution_count": null,
   "id": "7ff69538",
   "metadata": {},
   "outputs": [
    {
     "name": "stdout",
     "output_type": "stream",
     "text": [
      "11\n"
     ]
    }
   ],
   "source": [
    "def count_valid_subrectangles(a, M):\n",
    "    n = len(a)\n",
    "    m = len(a[0])\n",
    "    \n",
    "    # 构建二维前缀和，前缀和数组从1开始，方便边界处理\n",
    "    prefix = [[0]*(m+1) for _ in range(n+1)]\n",
    "    \n",
    "    for i in range(n):\n",
    "        for j in range(m):\n",
    "            prefix[i+1][j+1] = (\n",
    "                prefix[i][j+1] +\n",
    "                prefix[i+1][j] -\n",
    "                prefix[i][j] +\n",
    "                a[i][j]\n",
    "            )\n",
    "    \n",
    "    def get_sum(r1, c1, r2, c2):\n",
    "        # 输入都是1-based坐标，返回子矩形的和\n",
    "        return (prefix[r2][c2]\n",
    "                - prefix[r1-1][c2]\n",
    "                - prefix[r2][c1-1]\n",
    "                + prefix[r1-1][c1-1])\n",
    "    \n",
    "    count = 0\n",
    "    for r1 in range(1, n+1):\n",
    "        for r2 in range(r1, n+1):\n",
    "            for c1 in range(1, m+1):\n",
    "                for c2 in range(c1, m+1):\n",
    "                    if get_sum(r1, c1, r2, c2) <= M:\n",
    "                        count += 1\n",
    "    return count\n",
    "\n",
    "\n",
    "a = [\n",
    "    [1, 2, 3],\n",
    "    [4, 5, 6]\n",
    "]\n",
    "M = 8\n",
    "print(count_valid_subrectangles(a, M))  "
   ]
  },
  {
   "cell_type": "code",
   "execution_count": 1,
   "id": "ee8d9fa3",
   "metadata": {},
   "outputs": [
    {
     "data": {
      "text/plain": [
       "[1, 1, 2]"
      ]
     },
     "execution_count": 1,
     "metadata": {},
     "output_type": "execute_result"
    }
   ],
   "source": [
    "sss = '1 1 2'\n",
    "[int(x) for x in sss.split(' ')]"
   ]
  },
  {
   "cell_type": "code",
   "execution_count": 3,
   "id": "2ac015bc",
   "metadata": {},
   "outputs": [
    {
     "ename": "SyntaxError",
     "evalue": "closing parenthesis '}' does not match opening parenthesis '(' (1924173774.py, line 2)",
     "output_type": "error",
     "traceback": [
      "  \u001b[36mCell\u001b[39m\u001b[36m \u001b[39m\u001b[32mIn[3]\u001b[39m\u001b[32m, line 2\u001b[39m\n\u001b[31m    \u001b[39m\u001b[31mdisplay(Math(r'\\mathrm{R{-}X} + \\mathrm{NaOR'} \\rightarrow \\mathrm{R{-}O{-}R'} + \\mathrm{NaX}'))\u001b[39m\n                                                 ^\n\u001b[31mSyntaxError\u001b[39m\u001b[31m:\u001b[39m closing parenthesis '}' does not match opening parenthesis '('\n"
     ]
    }
   ],
   "source": [
    "from IPython.display import display, Math\n",
    "display(Math(r'\\mathrm{R{-}X} + \\mathrm{NaOR'} \\rightarrow \\mathrm{R{-}O{-}R'} + \\mathrm{NaX}'))"
   ]
  },
  {
   "cell_type": "code",
   "execution_count": 5,
   "id": "0e3d5b91",
   "metadata": {},
   "outputs": [
    {
     "name": "stdout",
     "output_type": "stream",
     "text": [
      "❌ 匹配失败\n"
     ]
    }
   ],
   "source": [
    "import re\n",
    "text = \"hermione+rege+xone@+hogwarts.com\"\n",
    "m = re.search(r'(.*(?=@))(?=\\+)', text)\n",
    "if m:\n",
    "    print(\"✅ 匹配成功:\", m.group(1))\n",
    "else:\n",
    "    print(\"❌ 匹配失败\")"
   ]
  },
  {
   "cell_type": "code",
   "execution_count": 40,
   "id": "a73f1db9",
   "metadata": {},
   "outputs": [
    {
     "name": "stdout",
     "output_type": "stream",
     "text": [
      "   col_1 col_2\n",
      "0      3     a\n",
      "1      2     b\n",
      "2      4     c\n",
      "3      1     d\n",
      "4      0     c\n"
     ]
    }
   ],
   "source": [
    "import pandas as pd\n",
    "\n",
    "data = {'col_1': [3, 2, 4, 1, 0], 'col_2': ['a', 'b', 'c', 'd', 'c']}\n",
    "df = pd.DataFrame.from_dict(data)\n",
    "\n",
    "print(df)"
   ]
  },
  {
   "cell_type": "code",
   "execution_count": 50,
   "id": "d0376ad1",
   "metadata": {},
   "outputs": [
    {
     "data": {
      "text/plain": [
       "pandas.core.series.Series"
      ]
     },
     "execution_count": 50,
     "metadata": {},
     "output_type": "execute_result"
    }
   ],
   "source": [
    "type(df['col_2'].value_counts())"
   ]
  },
  {
   "cell_type": "code",
   "execution_count": 48,
   "id": "bd22ccc7",
   "metadata": {},
   "outputs": [
    {
     "data": {
      "text/plain": [
       "-1"
      ]
     },
     "execution_count": 48,
     "metadata": {},
     "output_type": "execute_result"
    }
   ],
   "source": [
    "'helloworld'.find('ggg')"
   ]
  },
  {
   "cell_type": "code",
   "execution_count": 45,
   "id": "256605ed",
   "metadata": {},
   "outputs": [
    {
     "data": {
      "text/plain": [
       "0    1.0\n",
       "1    0.0\n",
       "2    2.0\n",
       "3   -1.0\n",
       "4   -2.0\n",
       "Name: col_1, dtype: float64"
      ]
     },
     "execution_count": 45,
     "metadata": {},
     "output_type": "execute_result"
    }
   ],
   "source": [
    "x= df['col_1'] - df['col_1'].mean()\n",
    "x"
   ]
  },
  {
   "cell_type": "code",
   "execution_count": 10,
   "id": "e1d0475f",
   "metadata": {},
   "outputs": [
    {
     "data": {
      "text/html": [
       "<div>\n",
       "<style scoped>\n",
       "    .dataframe tbody tr th:only-of-type {\n",
       "        vertical-align: middle;\n",
       "    }\n",
       "\n",
       "    .dataframe tbody tr th {\n",
       "        vertical-align: top;\n",
       "    }\n",
       "\n",
       "    .dataframe thead th {\n",
       "        text-align: right;\n",
       "    }\n",
       "</style>\n",
       "<table border=\"1\" class=\"dataframe\">\n",
       "  <thead>\n",
       "    <tr style=\"text-align: right;\">\n",
       "      <th></th>\n",
       "      <th>Apples</th>\n",
       "      <th>Bananas</th>\n",
       "    </tr>\n",
       "  </thead>\n",
       "  <tbody>\n",
       "    <tr>\n",
       "      <th>0</th>\n",
       "      <td>30</td>\n",
       "      <td>21</td>\n",
       "    </tr>\n",
       "  </tbody>\n",
       "</table>\n",
       "</div>"
      ],
      "text/plain": [
       "   Apples  Bananas\n",
       "0      30       21"
      ]
     },
     "execution_count": 10,
     "metadata": {},
     "output_type": "execute_result"
    }
   ],
   "source": [
    "import pandas as pd\n",
    "\n",
    "fruits = pd.DataFrame.from_dict({'Apples':[30], 'Bananas':[21]})\n",
    "fruits"
   ]
  },
  {
   "cell_type": "code",
   "execution_count": 2,
   "id": "7ea7cd40",
   "metadata": {},
   "outputs": [
    {
     "name": "stdout",
     "output_type": "stream",
     "text": [
      "a    1\n",
      "b    2\n",
      "c    3\n",
      "dtype: int64 b    4\n",
      "c    5\n",
      "d    6\n",
      "dtype: int64\n"
     ]
    },
    {
     "data": {
      "text/plain": [
       "a    NaN\n",
       "b    6.0\n",
       "c    8.0\n",
       "d    NaN\n",
       "dtype: float64"
      ]
     },
     "execution_count": 2,
     "metadata": {},
     "output_type": "execute_result"
    }
   ],
   "source": [
    "import pandas as pd\n",
    "\n",
    "# 创建两个Series对象\n",
    "s1 = pd.Series([1, 2, 3], index=['a', 'b', 'c'])\n",
    "s2 = pd.Series([4, 5, 6], index=['b', 'c', 'd'])\n",
    "print(s1, s2)\n",
    "\n",
    "s3 = s1 + s2\n",
    "s3"
   ]
  },
  {
   "cell_type": "code",
   "execution_count": null,
   "id": "3b19ddfb",
   "metadata": {},
   "outputs": [
    {
     "ename": "TypeError",
     "evalue": "concat() got an unexpected keyword argument 'columns'",
     "output_type": "error",
     "traceback": [
      "\u001b[31m---------------------------------------------------------------------------\u001b[39m",
      "\u001b[31mTypeError\u001b[39m                                 Traceback (most recent call last)",
      "\u001b[36mCell\u001b[39m\u001b[36m \u001b[39m\u001b[32mIn[4]\u001b[39m\u001b[32m, line 2\u001b[39m\n\u001b[32m      1\u001b[39m \u001b[38;5;66;03m# 列合并，形成DataFrame\u001b[39;00m\n\u001b[32m----> \u001b[39m\u001b[32m2\u001b[39m result = \u001b[43mpd\u001b[49m\u001b[43m.\u001b[49m\u001b[43mconcat\u001b[49m\u001b[43m(\u001b[49m\u001b[43m[\u001b[49m\u001b[43ms1\u001b[49m\u001b[43m,\u001b[49m\u001b[43m \u001b[49m\u001b[43ms2\u001b[49m\u001b[43m]\u001b[49m\u001b[43m,\u001b[49m\u001b[43m \u001b[49m\u001b[43maxis\u001b[49m\u001b[43m=\u001b[49m\u001b[32;43m1\u001b[39;49m\u001b[43m,\u001b[49m\u001b[43m \u001b[49m\u001b[43mignore_index\u001b[49m\u001b[43m=\u001b[49m\u001b[38;5;28;43;01mTrue\u001b[39;49;00m\u001b[43m,\u001b[49m\u001b[43m \u001b[49m\u001b[43mcolumns\u001b[49m\u001b[43m=\u001b[49m\u001b[43m[\u001b[49m\u001b[33;43m'\u001b[39;49m\u001b[33;43ms1\u001b[39;49m\u001b[33;43m'\u001b[39;49m\u001b[43m,\u001b[49m\u001b[43m \u001b[49m\u001b[33;43m'\u001b[39;49m\u001b[33;43ms2\u001b[39;49m\u001b[33;43m'\u001b[39;49m\u001b[43m]\u001b[49m\u001b[43m)\u001b[49m\n\u001b[32m      3\u001b[39m result\n",
      "\u001b[31mTypeError\u001b[39m: concat() got an unexpected keyword argument 'columns'"
     ]
    }
   ],
   "source": [
    "# 列合并，形成DataFrame\n",
    "result = pd.concat([s1, s2], axis=1, ignore_index=True)\n",
    "result"
   ]
  },
  {
   "cell_type": "code",
   "execution_count": 1,
   "id": "2ee4aabe",
   "metadata": {},
   "outputs": [
    {
     "name": "stdout",
     "output_type": "stream",
     "text": [
      "[[1.]\n",
      " [2.]\n",
      " [0.]\n",
      " [2.]]\n"
     ]
    }
   ],
   "source": [
    "from sklearn.preprocessing import OrdinalEncoder\n",
    "import numpy as np\n",
    "\n",
    "oe = OrdinalEncoder()\n",
    "X = np.array([['low'], ['medium'], ['high'], ['medium']])\n",
    "X_encoded = oe.fit_transform(X)\n",
    "print(X_encoded)"
   ]
  },
  {
   "cell_type": "code",
   "execution_count": 2,
   "id": "076147fc",
   "metadata": {},
   "outputs": [
    {
     "name": "stdout",
     "output_type": "stream",
     "text": [
      "[0 1 1 2]\n",
      "['cat' 'dog' 'dog' 'fish']\n"
     ]
    }
   ],
   "source": [
    "from sklearn.preprocessing import LabelEncoder\n",
    "\n",
    "le = LabelEncoder()\n",
    "y = ['cat', 'dog', 'dog', 'fish']\n",
    "y_encoded = le.fit_transform(y)\n",
    "print(y_encoded)  # 输出: [0 1 1 2]\n",
    "print(le.inverse_transform(y_encoded))  # 输出: ['cat' 'dog' 'dog' 'fish']\n"
   ]
  },
  {
   "cell_type": "code",
   "execution_count": 3,
   "id": "c3f5e9b3",
   "metadata": {},
   "outputs": [
    {
     "name": "stdout",
     "output_type": "stream",
     "text": [
      "   color  value  color_encoded\n",
      "0    red    100              2\n",
      "1  green    200              1\n",
      "2   blue    300              0\n",
      "3  green    400              1\n",
      "4    red    500              2\n"
     ]
    }
   ],
   "source": [
    "import pandas as pd\n",
    "from sklearn.preprocessing import LabelEncoder\n",
    "\n",
    "# 假设你的数据如下：\n",
    "df = pd.DataFrame({\n",
    "    'color': ['red', 'green', 'blue', 'green', 'red'],\n",
    "    'value': [100, 200, 300, 400, 500]\n",
    "})\n",
    "\n",
    "# 创建编码器\n",
    "le = LabelEncoder()\n",
    "\n",
    "# 对 'color' 列进行编码\n",
    "df['color_encoded'] = le.fit_transform(df['color'])\n",
    "\n",
    "print(df)"
   ]
  }
 ],
 "metadata": {
  "kernelspec": {
   "display_name": "Python 3",
   "language": "python",
   "name": "python3"
  },
  "language_info": {
   "codemirror_mode": {
    "name": "ipython",
    "version": 3
   },
   "file_extension": ".py",
   "mimetype": "text/x-python",
   "name": "python",
   "nbconvert_exporter": "python",
   "pygments_lexer": "ipython3",
   "version": "3.11.9"
  }
 },
 "nbformat": 4,
 "nbformat_minor": 5
}
