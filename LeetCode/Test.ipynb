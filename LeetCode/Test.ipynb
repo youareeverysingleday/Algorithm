{
 "cells": [
  {
   "cell_type": "code",
   "execution_count": 1,
   "metadata": {},
   "outputs": [
    {
     "data": {
      "text/plain": [
       "[1, 2, 3, 4, 5, 6, 7, 8, 9, 10]"
      ]
     },
     "execution_count": 1,
     "metadata": {},
     "output_type": "execute_result"
    }
   ],
   "source": [
    "list(range(1, 11))"
   ]
  },
  {
   "cell_type": "code",
   "execution_count": 3,
   "metadata": {},
   "outputs": [
    {
     "ename": "NameError",
     "evalue": "name 'array' is not defined",
     "output_type": "error",
     "traceback": [
      "\u001b[1;31m---------------------------------------------------------------------------\u001b[0m",
      "\u001b[1;31mNameError\u001b[0m                                 Traceback (most recent call last)",
      "Cell \u001b[1;32mIn[3], line 1\u001b[0m\n\u001b[1;32m----> 1\u001b[0m \u001b[43marray\u001b[49m(\u001b[38;5;28mrange\u001b[39m(\u001b[38;5;241m1\u001b[39m, \u001b[38;5;241m11\u001b[39m))\n",
      "\u001b[1;31mNameError\u001b[0m: name 'array' is not defined"
     ]
    }
   ],
   "source": [
    "array(range(1, 11))"
   ]
  },
  {
   "cell_type": "code",
   "execution_count": 4,
   "metadata": {},
   "outputs": [
    {
     "name": "stdout",
     "output_type": "stream",
     "text": [
      "[1.0, 2.0, 3.0, 4.0, 5.0]\n",
      "3.0\n"
     ]
    }
   ],
   "source": [
    "def main():\n",
    "\n",
    "    filename = 'data.txt'\n",
    "\n",
    "    write_data_to_file(filename, [1, 2, '3', 4, 5])\n",
    "\n",
    "    data = read_data_from_file(filename)\n",
    "\n",
    "    print(data)\n",
    "\n",
    "    mean_value = sum(data) / len(data)  \n",
    "\n",
    "    print(mean_value)\n",
    "\n",
    "\n",
    "\n",
    "def write_data_to_file(filename, data):\n",
    "\n",
    "    try:\n",
    "\n",
    "        with open(filename, 'w') as file:\n",
    "\n",
    "            for item in data:\n",
    "\n",
    "                file.write(str(item) + '\\n') \n",
    "\n",
    "    except IOError:\n",
    "\n",
    "        print('写入数据时发生错误。')\n",
    "\n",
    "\n",
    "\n",
    "def read_data_from_file(filename):\n",
    "\n",
    "    try:\n",
    "\n",
    "        with open(filename, 'r') as file:\n",
    "\n",
    "            data = [float(line.strip()) for line in file]  \n",
    "\n",
    "        return data\n",
    "\n",
    "    except IOError:\n",
    "\n",
    "        print('无法打开文件。')\n",
    "\n",
    "        return []\n",
    "\n",
    "\n",
    "\n",
    "if __name__ == '__main__':\n",
    "\n",
    "    main()"
   ]
  },
  {
   "cell_type": "code",
   "execution_count": null,
   "metadata": {},
   "outputs": [],
   "source": [
    "grid1 = [\n",
    "    [\"1\",\"1\",\"1\",\"1\",\"0\"],\n",
    "    [\"1\",\"1\",\"0\",\"1\",\"0\"],\n",
    "    [\"1\",\"1\",\"0\",\"0\",\"0\"],\n",
    "    [\"0\",\"0\",\"0\",\"0\",\"0\"]\n",
    "]"
   ]
  },
  {
   "cell_type": "code",
   "execution_count": null,
   "metadata": {},
   "outputs": [],
   "source": [
    "grid2 = [\n",
    "\n",
    "  [\"1\",\"1\",\"0\",\"0\",\"0\"],\n",
    "\n",
    "  [\"1\",\"1\",\"0\",\"0\",\"0\"],\n",
    "\n",
    "  [\"0\",\"0\",\"1\",\"0\",\"0\"],\n",
    "\n",
    "  [\"0\",\"0\",\"0\",\"1\",\"1\"]\n",
    "\n",
    "]"
   ]
  }
 ],
 "metadata": {
  "kernelspec": {
   "display_name": "Python 3",
   "language": "python",
   "name": "python3"
  },
  "language_info": {
   "codemirror_mode": {
    "name": "ipython",
    "version": 3
   },
   "file_extension": ".py",
   "mimetype": "text/x-python",
   "name": "python",
   "nbconvert_exporter": "python",
   "pygments_lexer": "ipython3",
   "version": "3.9.13"
  }
 },
 "nbformat": 4,
 "nbformat_minor": 2
}
