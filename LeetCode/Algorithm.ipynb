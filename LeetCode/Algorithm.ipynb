{
 "cells": [
  {
   "cell_type": "markdown",
   "metadata": {},
   "source": [
    "**Table of contents**<a id='toc0_'></a>    \n",
    "- [Algorithm 算法](#toc1_)    \n",
    "  - [参考](#toc1_1_)    \n",
    "  - [复杂度](#toc1_2_)    \n",
    "    - [时间复杂度](#toc1_2_1_)    \n",
    "    - [空间复杂度](#toc1_2_2_)    \n",
    "  - [递归](#toc1_3_)    \n",
    "    - [定义](#toc1_3_1_)    \n",
    "    - [递归的核心思想：](#toc1_3_2_)    \n",
    "    - [递归的栈开销（Stack Overhead）](#toc1_3_3_)    \n",
    "    - [示例](#toc1_3_4_)    \n",
    "      - [计算阶乘：计算$n!=n×(n−1)!$](#toc1_3_4_1_)    \n",
    "      - [求指定位置的斐波那契数列数值](#toc1_3_4_2_)    \n",
    "  - [迭代](#toc1_4_)    \n",
    "    - [迭代（Iteration）的定义](#toc1_4_1_)    \n",
    "    - [迭代的特点](#toc1_4_2_)    \n",
    "    - [示例](#toc1_4_3_)    \n",
    "      - [计算阶乘：计算$n!=n×(n−1)!$](#toc1_4_3_1_)    \n",
    "      - [斐波那契数列](#toc1_4_3_2_)    \n",
    "      - [使用 while 迭代查找最大公约数（欧几里得算法）](#toc1_4_3_3_)    \n",
    "  - [递归和迭代比较](#toc1_5_)    \n",
    "  - [回溯（Backtracking）](#toc1_6_)    \n",
    "    - [定义](#toc1_6_1_)    \n",
    "    - [伪代码](#toc1_6_2_)    \n",
    "    - [示例](#toc1_6_3_)    \n",
    "      - [求数组的所有子集](#toc1_6_3_1_)    \n",
    "- [数据结构](#toc2_)    \n",
    "  - [链表](#toc2_1_)    \n",
    "      - [单向链表](#toc2_1_1_1_)    \n",
    "      - [双向链表](#toc2_1_1_2_)    \n",
    "  - [栈](#toc2_2_)    \n",
    "  - [队列（Queue）](#toc2_3_)    \n",
    "  - [哈希表](#toc2_4_)    \n",
    "  - [堆（Heap）](#toc2_5_)    \n",
    "    - [应用场景](#toc2_5_1_)    \n",
    "    - [最小堆](#toc2_5_2_)    \n",
    "    - [最大堆](#toc2_5_3_)    \n",
    "    - [手写堆（最大堆实现）](#toc2_5_4_)    \n",
    "  - [几种数据结构总结](#toc2_6_)    \n",
    "\n",
    "<!-- vscode-jupyter-toc-config\n",
    "\tnumbering=false\n",
    "\tanchor=true\n",
    "\tflat=false\n",
    "\tminLevel=1\n",
    "\tmaxLevel=6\n",
    "\t/vscode-jupyter-toc-config -->\n",
    "<!-- THIS CELL WILL BE REPLACED ON TOC UPDATE. DO NOT WRITE YOUR TEXT IN THIS CELL -->"
   ]
  },
  {
   "cell_type": "markdown",
   "metadata": {},
   "source": [
    "# <a id='toc1_'></a>[Algorithm 算法](#toc0_)\n",
    "\n",
    "\n",
    "## <a id='toc1_1_'></a>[参考](#toc0_)\n",
    "\n",
    "1. [Problem Solving with Algorithms and Data Structures using Python, 通过python解决算法和数据结构问题, 中文版](https://hellowac.github.io/pythonds-zh-cn/)\n",
    "2. 参考 hello-aglo 。\n",
    "3. 就把这100题搞清楚：[LeetCode 热题 HOT 100](https://leetcode.cn/problem-list/2cktkvj/)\n",
    "\n",
    "## <a id='toc1_2_'></a>[复杂度](#toc0_)\n",
    "\n",
    "参考：[时间和空间复杂度](./AlgorithmComplexity.md)\n",
    "\n",
    "### <a id='toc1_2_1_'></a>[时间复杂度](#toc0_)\n",
    "\n",
    "最主要的假设：多次循环中的不同层次的次数在无限的情况下，可以认为都是$n$；从而达到简化公式表达的目的。\n",
    "\n",
    "事实上，对于一个算法（或者一段程序）来说，其最简频度往往就是最深层次的循环结构中某一条语句的执行次数。例如2n+1最简为n，实际上就是a++ 语句的执行次数；同样 $2n^2+2n+1$简化为$n^2$，实际上就是最内层循环中num++语句的执行次数。\n",
    "\n",
    "实际上就是函数的变化率。谁的变化率大，最后就保留谁。\n",
    "\n",
    "### <a id='toc1_2_2_'></a>[空间复杂度](#toc0_)\n",
    "\n",
    "和时间复杂度类似，一个算法的空间复杂度，也常用大$O$记法表示。\n",
    "\n",
    "要知道每一个算法所编写的程序，运行过程中都需要占用大小不等的存储空间，例如：\n",
    "- 程序代码本身所占用的存储空间；\n",
    "- 程序中如果需要输入输出数据，也会占用一定的存储空间；\n",
    "- 程序在运行过程中，可能还需要临时申请更多的存储空间。\n",
    "\n",
    "首先，程序自身所占用的存储空间取决于其包含的代码量，如果要压缩这部分存储空间，就要求我们在实现功能的同时，尽可能编写足够短的代码。\n",
    "\n",
    "程序运行过程中输入输出的数据，往往由要解决的问题而定，即便所用算法不同，程序输入输出所占用的存储空间也是相近的。\n",
    "\n",
    "事实上，对算法的空间复杂度影响最大的，往往是程序运行过程中所申请的临时存储空间。不同的算法所编写出的程序，其运行时申请的临时存储空间通常会有较大不同。\n",
    "\n",
    "example 1:\n",
    "```C\n",
    "int n;\n",
    "scanf(\"%d\", &n);\n",
    "int a[10];\n",
    "```\n",
    "\n",
    "通过分析不难看出，这段程序在运行时所申请的临时空间，并不随 n 的值而变化。而如果将第 3 行代码改为：\n",
    "\n",
    "example 2:\n",
    "```C\n",
    "int a[n];\n",
    "```\n",
    "此时，程序运行所申请的临时空间，和$n$值有直接的关联。\n",
    "\n",
    "所以，如果程序所占用的存储空间和输入值无关，则该程序的空间复杂度就为$O(1)$；反之，如果有关，则需要进一步判断它们之间的关系：\n",
    "- 如果随着输入值 $n$ 的增大，程序申请的临时空间成线性增长，则程序的空间复杂度用 $O(n)$ 表示;\n",
    "- 如果随着输入值 $n$ 的增大，程序申请的临时空间成 $n^2$ 关系增长，则程序的空间复杂度用 $O(n^2)$ 表示；\n",
    "- 如果随着输入值 $n$ 的增大，程序申请的临时空间成 $n^3$ 关系增长，则程序的空间复杂度用 $O(n^3)$ 表示；\n",
    "等等。"
   ]
  },
  {
   "cell_type": "markdown",
   "metadata": {},
   "source": [
    "## <a id='toc1_3_'></a>[递归](#toc0_)\n",
    "\n",
    "### <a id='toc1_3_1_'></a>[定义](#toc0_)\n",
    "递归是一种函数调用自身的编程技巧。通常用于分解问题，直到问题变得足够简单，然后逐层返回结果。\n",
    "\n",
    "**递归：适用于分治问题，如阶乘、斐波那契、二分搜索。**\n",
    "\n",
    "### <a id='toc1_3_2_'></a>[递归的核心思想：](#toc0_)\n",
    "- **基准情况（Base Case）： 递归的终止条件，确保不会无限递归**。\n",
    "- 递归公式（Recurrence Relation）： 如何将当前问题拆解为子问题。\n",
    "- 递归调用（Recursive Call）： 在问题拆解后，调用自身解决子问题。\n",
    "\n",
    "注意：一定需要定义基准情况来终止递归。\n",
    "\n",
    "### <a id='toc1_3_3_'></a>[递归的栈开销（Stack Overhead）](#toc0_)\n",
    "\n",
    "在递归过程中，每次函数调用都会创建新的栈帧（Stack Frame），存储函数的局部变量、返回地址和参数，直到递归返回时才释放。这种额外的内存消耗就是递归的栈开销。\n",
    "\n",
    "栈的工作方式\n",
    "计算机的**调用栈（Call Stack）是后进先出（LIFO）**结构，每次递归调用时：\n",
    "1. 创建新栈帧（存储参数、局部变量、返回地址）。\n",
    "2. 压入栈中，等待当前函数执行完毕。\n",
    "3. 递归返回后，弹出栈帧，恢复上一层状态。\n",
    "如果递归深度过大，会导致栈空间耗尽，最终引发 RecursionError: maximum recursion depth exceeded（Python 默认递归深度为 1000）。python的最大递归深度是2000，\n",
    "\n",
    "默认最大递归深度：\n",
    "```python\n",
    "import sys\n",
    "print(sys.getrecursionlimit())  # 默认 1000\n",
    "```\n",
    "\n",
    "可以手动增大：\n",
    "```python\n",
    "sys.setrecursionlimit(2000)  # 设置更大的递归深度\n",
    "```\n",
    "但这只是缓解问题，不能从根本上解决，因为递归深度过大最终还是会溢出。\n",
    "\n",
    "\n",
    "### <a id='toc1_3_4_'></a>[示例](#toc0_)"
   ]
  },
  {
   "cell_type": "markdown",
   "metadata": {},
   "source": [
    "#### <a id='toc1_3_4_1_'></a>[计算阶乘：计算$n!=n×(n−1)!$](#toc0_)"
   ]
  },
  {
   "cell_type": "code",
   "execution_count": null,
   "metadata": {},
   "outputs": [
    {
     "name": "stdout",
     "output_type": "stream",
     "text": [
      "120\n"
     ]
    }
   ],
   "source": [
    "def calculate(n: int) -> int:\n",
    "    # 设置基准条件。\n",
    "    # 0的阶乘为1。\n",
    "    # 如果不设置基准条件就会导致python崩溃。\n",
    "    if n == 0:\n",
    "        return 1\n",
    "    # 递归调用自身。\n",
    "    return n * calculate(n - 1)\n",
    "\n",
    "print(calculate(5))  # 120\n",
    "    "
   ]
  },
  {
   "cell_type": "markdown",
   "metadata": {},
   "source": [
    "#### <a id='toc1_3_4_2_'></a>[求指定位置的斐波那契数列数值](#toc0_)\n",
    "\n",
    "$F(n)=F(n−1)+F(n−2)$"
   ]
  },
  {
   "cell_type": "code",
   "execution_count": null,
   "metadata": {},
   "outputs": [
    {
     "name": "stdout",
     "output_type": "stream",
     "text": [
      "34\n"
     ]
    }
   ],
   "source": [
    "def fibonacci(n: int) -> int:\n",
    "    # 如何这里设置为2，那么就会导致python崩溃。\n",
    "    # 原因是：递归调用时：如果n=3, 那么会计算fibonacci(2) + fibonacci(1)。\n",
    "    # 但是fibonacci(1)是没有定义的，所以会导致python崩溃。\n",
    "    # 对于两个的递归，需要定义两个基准条件。\n",
    "    # if n == 2:\n",
    "    #     return 1\n",
    "    \n",
    "    # 注意递归使用位置下标是从0开始。\n",
    "    # 第10个位置，实际上是第11个数。\n",
    "    # 一定要注意题干下标从0开始还是从1开始。\n",
    "    # 使用递归时，如果要求的下标位置从1开始，那么只能在外层封装减1，不能在递归中减1。\n",
    "    if n == 0 or n == 1:\n",
    "        return n\n",
    "    \n",
    "    return fibonacci(n - 1) + fibonacci(n - 2)\n",
    "\n",
    "# 也就是从0开始，第10个数是34。\n",
    "print(fibonacci(10))  # 34"
   ]
  },
  {
   "cell_type": "markdown",
   "metadata": {},
   "source": [
    "时间复杂度：\n",
    "$𝑂(2^𝑁)$（存在大量重复计算，可以优化为动态规划）"
   ]
  },
  {
   "cell_type": "markdown",
   "metadata": {},
   "source": [
    "## <a id='toc1_4_'></a>[迭代](#toc0_)\n",
    "\n",
    "### <a id='toc1_4_1_'></a>[迭代（Iteration）的定义](#toc0_)\n",
    "迭代是一种重复执行某段代码的过程，通常使用 循环（for/while） 来实现。\n",
    "\n",
    "**与递归不同，迭代不会使用函数调用自身，而是通过显式的循环结构不断更新变量的值，直到满足终止条件。**\n",
    "\n",
    "**注意不是更新下标！是更新值本身！**\n",
    "\n",
    "### <a id='toc1_4_2_'></a>[迭代的特点](#toc0_)\n",
    "- 显式循环：依靠 for 或 while 语句来控制循环次数。\n",
    "- 低栈空间消耗：不需要递归调用，通常比递归更节省内存。\n",
    "- 适用于线性结构：数组、列表、字符串等适合用迭代处理。\n",
    "\n",
    "### <a id='toc1_4_3_'></a>[示例](#toc0_)"
   ]
  },
  {
   "cell_type": "markdown",
   "metadata": {},
   "source": [
    "#### <a id='toc1_4_3_1_'></a>[计算阶乘：计算$n!=n×(n−1)!$](#toc0_)\n",
    "- 时间复杂度：$𝑂(𝑁)$，只需要 N 次乘法操作。\n",
    "- 空间复杂度：$𝑂(1)$，只用了 result 和 i 两个变量，不占用额外栈空间。"
   ]
  },
  {
   "cell_type": "code",
   "execution_count": 8,
   "metadata": {},
   "outputs": [
    {
     "name": "stdout",
     "output_type": "stream",
     "text": [
      "120\n"
     ]
    }
   ],
   "source": [
    "def calculate(n: int) -> int:\n",
    "    result = 1\n",
    "    for i in range(1, n+1):\n",
    "        # print(i)\n",
    "        result *= i\n",
    "    return result\n",
    "\n",
    "print(calculate(5))  # 120"
   ]
  },
  {
   "cell_type": "markdown",
   "metadata": {},
   "source": [
    "#### <a id='toc1_4_3_2_'></a>[斐波那契数列](#toc0_)\n",
    "\n",
    "$F(n)=F(n−1)+F(n−2)$\n",
    "\n",
    "- 时间复杂度：$𝑂(𝑁)$\n",
    "- 空间复杂度：𝑂(1)（只用了 a, b 变量）"
   ]
  },
  {
   "cell_type": "code",
   "execution_count": 5,
   "metadata": {},
   "outputs": [
    {
     "name": "stdout",
     "output_type": "stream",
     "text": [
      "55\n"
     ]
    }
   ],
   "source": [
    "def fibonacci(n: int) -> int:\n",
    "    # 注意迭代可以在函数中减1来修改不同开始下标对应的题目。而递归不行。\n",
    "    # n = n - 1\n",
    "    if n == 0 or n == 1:\n",
    "        return n\n",
    "    a, b = 0, 1\n",
    "    for i in range(2, n+1):\n",
    "        a, b = b, a + b\n",
    "    return b\n",
    "\n",
    "print(fibonacci(10))"
   ]
  },
  {
   "cell_type": "markdown",
   "metadata": {},
   "source": [
    "#### <a id='toc1_4_3_3_'></a>[使用 while 迭代查找最大公约数（欧几里得算法）](#toc0_)"
   ]
  },
  {
   "cell_type": "code",
   "execution_count": 12,
   "metadata": {},
   "outputs": [
    {
     "name": "stdout",
     "output_type": "stream",
     "text": [
      "b :8.\n",
      "b :7.\n",
      "b :6.\n",
      "6\n"
     ]
    }
   ],
   "source": [
    "def gcd(a:int, b:int)->int:\n",
    "    while b:\n",
    "        print('b :{}.'.format(b))\n",
    "        if a % b == 0:\n",
    "            return b\n",
    "        b = b - 1\n",
    "    return b\n",
    "\n",
    "print(gcd(12, 8))  "
   ]
  },
  {
   "cell_type": "code",
   "execution_count": 13,
   "metadata": {},
   "outputs": [
    {
     "name": "stdout",
     "output_type": "stream",
     "text": [
      "6\n"
     ]
    }
   ],
   "source": [
    "def gcd(a, b):\n",
    "    while b:  # 直到 b 变为 0\n",
    "        a, b = b, a % b  # 不断更新 a, b\n",
    "    return a\n",
    "\n",
    "print(gcd(48, 18)) "
   ]
  },
  {
   "cell_type": "markdown",
   "metadata": {},
   "source": [
    "## <a id='toc1_5_'></a>[递归和迭代比较](#toc0_)\n",
    "\n",
    "||递归（Recursion）\t|迭代（Iteration）|\n",
    "|---|---|---|\n",
    "|核心思想\t|通过函数调用自身来解决问题\t|通过循环控制重复执行|\n",
    "|终止条件\t|基准条件（Base Case）\t|for 或 while 条件|\n",
    "|栈空间\t|需要额外栈空间（可能栈溢出）\t|不占用额外栈|\n",
    "|执行速度\t|可能慢（函数调用开销大）\t|通常更快（无额外函数调用）|\n",
    "|适用场景\t|树、分治、搜索（如 DFS）\t|数组、列表、数学计算|\n",
    "\n",
    "何时用迭代 vs 递归？\n",
    "1. 优先使用迭代\n",
    "   1. 线性数据结构（数组、列表、字符串等）。\n",
    "   2. 数学计算（阶乘、斐波那契、最大公约数）。\n",
    "   3. 需要高效解决问题，避免栈溢出。\n",
    "2. 适用递归\n",
    "   1. 适用于树结构（如二叉树遍历）。\n",
    "   2. 需要回溯搜索（如 N 皇后、全排列）。\n",
    "   3. 适用于分治（如归并排序、快速排序）。\n",
    "\n",
    "总结\n",
    "- 迭代使用显式循环（for/while），适用于线性结构和数学计算。\n",
    "- 递归使用函数调用自身，适用于树结构、分治、回溯搜索。\n",
    "- 一般来说，能用迭代解决的问题，优先使用迭代，避免递归的栈开销。"
   ]
  },
  {
   "cell_type": "markdown",
   "metadata": {},
   "source": [
    "## <a id='toc1_6_'></a>[回溯（Backtracking）](#toc0_)\n",
    "\n",
    "**回溯实际上是利用了代码的一个特点，执行完当前函数之后范围执行函数时的位置**。这样就可以不用记录查找的位置而遍历所有的情况。\n",
    "\n",
    "**回溯实际上也是用使用的递归的方式，只不过在逻辑上是完成某个完整的多步动作之后，返回从后往前返回之前的一步。**\n",
    "\n",
    "这样就可以达到一种效果，保持某种之前条件（condition）不变的情况下，搜寻之后的所有情况，而不需要额外的开销来记录某种之前条件（condition）所处的位置。从而可以极大的简化代码。\n",
    "\n",
    "### <a id='toc1_6_1_'></a>[定义](#toc0_)\n",
    "\n",
    "回溯是一种试探+回退的搜索算法，适用于组合、排列、子集等问题。\n",
    "\n",
    "它在搜索过程中尝试不同的选择，如果发现不符合条件，就回退到上一步，换一个选择继续探索。\n",
    "\n",
    "### <a id='toc1_6_2_'></a>[伪代码](#toc0_)\n",
    "\n",
    "```python\n",
    "\n",
    "def backtrack(状态, 选择列表):\n",
    "    if 终止条件:\n",
    "        记录结果\n",
    "        return\n",
    "    for 选择 in 选择列表:\n",
    "        做出选择\n",
    "        递归进入下一层\n",
    "        撤销选择（回溯）\n",
    "\n",
    "```"
   ]
  },
  {
   "cell_type": "markdown",
   "metadata": {},
   "source": [
    "### <a id='toc1_6_3_'></a>[示例](#toc0_)\n",
    "\n",
    "#### <a id='toc1_6_3_1_'></a>[求数组的所有子集](#toc0_)"
   ]
  },
  {
   "cell_type": "code",
   "execution_count": null,
   "metadata": {},
   "outputs": [],
   "source": [
    "# 滑动窗口的方式求解。\n",
    "\n",
    "def SlideWindow(input, start, windowLength):\n",
    "    length = len(input)\n",
    "    reuslt = []\n",
    "    if start + windowLength > length :\n",
    "        return None\n",
    "    \n",
    "    for i in range(start, length):\n",
    "        if i + windowLength > length:\n",
    "            break\n",
    "        element = input[i:i+windowLength]\n",
    "        reuslt.append(element)\n",
    "    \n",
    "    return reuslt\n",
    "\n",
    "numbers = [1,2,3,4,5,6,7,8,9]\n",
    "\n",
    "for position in range(1, len(numbers)):\n",
    "    print(SlideWindow(numbers, position, 3))"
   ]
  },
  {
   "cell_type": "code",
   "execution_count": 7,
   "metadata": {},
   "outputs": [
    {
     "name": "stdout",
     "output_type": "stream",
     "text": [
      "[[], [1], [1, 2], [1, 2, 3], [1, 3], [2], [2, 3], [3]]\n"
     ]
    }
   ],
   "source": [
    "def subsets(nums):\n",
    "    res = []\n",
    "    def backtrack(start, path):\n",
    "        res.append(path[:])  # 记录当前子集\n",
    "        for i in range(start, len(nums)):\n",
    "            path.append(nums[i])  # 做选择\n",
    "            backtrack(i + 1, path)  # 递归进入下一层\n",
    "            path.pop()  # 撤销选择（回溯）\n",
    "    \n",
    "    backtrack(0, [])\n",
    "    return res\n",
    "\n",
    "# 测试\n",
    "print(subsets([1, 2, 3]))\n"
   ]
  },
  {
   "cell_type": "code",
   "execution_count": 5,
   "metadata": {},
   "outputs": [
    {
     "name": "stdout",
     "output_type": "stream",
     "text": [
      "0\n",
      "1\n",
      "2\n",
      "3\n"
     ]
    }
   ],
   "source": [
    "for position in range(0, 4):\n",
    "    print(position)"
   ]
  },
  {
   "cell_type": "markdown",
   "metadata": {},
   "source": [
    "# 常用算法\n",
    "\n",
    "\n",
    "## 常见算法复杂度总结表\n",
    "\n",
    "| **算法类型** | **示例算法** | **时间复杂度** |\n",
    "|-------------|-------------|---------------|\n",
    "| **常数时间** | 访问数组元素 | $ O(1) $ |\n",
    "| **对数时间** | 二分查找 | $ O(\\log n) $ |\n",
    "| **线性时间** | 线性搜索、BFS | $ O(n) $ |\n",
    "| **线性对数时间** | 归并排序、快速排序 | $ O(n \\log n) $ |\n",
    "| **平方时间** | 冒泡排序、矩阵乘法 | $ O(n^2) $ |\n",
    "| **立方时间** | Floyd-Warshall | $ O(n^3) $ |\n",
    "| **指数时间** | 回溯（子集、全排列） | $ O(2^n) $ |\n",
    "| **阶乘时间** | 旅行商问题（TSP） | $ O(n!) $ |\n",
    "\n",
    "\n",
    "## 重点理解\n",
    "- 对数算法$ O(logn)$ 比线性算法快得多（如二分查找 vs 线性搜索）。\n",
    "- 排序算法 最优可以做到 $O(nlogn)$。\n",
    "- 回溯算法（如全排列）通常是指数级复杂度。\n",
    "- 动态规划 可以优化某些指数级问题，使其降至 多项式级（如 Floyd-Warshall 从 $O(n!)$ 降到 $O(n^3)$）。\n",
    "\n",
    "## 常见排序算法的时间复杂度\n",
    "\n",
    "| **排序算法**   | **平均时间复杂度** | **最优时间复杂度** | **最坏时间复杂度** | **空间复杂度** | **稳定性** |复杂性|\n",
    "|---------------|------------------|------------------|------------------|----------------|-----------|---|\n",
    "| **冒泡排序**  | $ O(n^2) $      | $ O(n) $       | $ O(n^2) $      | $ O(1) $     | ✅ 稳定   |简单|\n",
    "| **选择排序**  | $ O(n^2) $      | $ O(n^2) $     | $ O(n^2) $      | $ O(1) $     | ❌ 不稳定 |简单|\n",
    "| **插入排序**  | $ O(n^2) $      | $ O(n) $       | $ O(n^2) $      | $ O(1) $     | ✅ 稳定   |简单|\n",
    "| **归并排序**  | $ O(n \\log n) $ | $ O(n \\log n) $ | $ O(n \\log n) $ | $ O(n) $     | ✅ 稳定   |较复杂|\n",
    "| **快速排序**  | $ O(n \\log n) $ | $ O(n \\log n) $ | $ O(n^2) $      | $ O(\\log n) $ (递归栈) | ❌ 不稳定 |较复杂|\n",
    "| **堆排序**    | $ O(n \\log n) $ | $ O(n \\log n) $ | $ O(n \\log n) $ | $ O(1) $     | ❌ 不稳定 |较复杂|\n",
    "| **计数排序**  | $ O(n + k) $    | $ O(n + k) $   | $ O(n + k) $    | $ O(k) $     | ✅ 稳定   ||\n",
    "| **基数排序**  | $ O(nk) $       | $ O(nk) $      | $ O(nk) $       | $ O(n + k) $ | ✅ 稳定   |较复杂|\n",
    "| **桶排序**    | $ O(n + k) $    | $ O(n) $       | $ O(n^2) $      | $ O(n + k) $ | ✅ 稳定   ||\n",
    "\n",
    "**说明：**  \n",
    "- $ n $ 是数组长度，$ k $ 是数据范围大小。  \n",
    "- **稳定性**：若相等元素的相对顺序不变，则称该排序算法**稳定**。  \n"
   ]
  },
  {
   "cell_type": "markdown",
   "metadata": {},
   "source": [
    "## 二分查找\n",
    "\n",
    "二分查找的时间复杂度是 $O(log_2 N)$。\n",
    "\n",
    "由于二分查找每次查询都是从数组中间切开查询，所以每次查询，剩余的查询数为上一次的一半，从下表可以清晰的看出查询次数与剩余元素数量对应关系\n",
    "\n",
    "|第几次查询\t|剩余待查询元素数量|\n",
    "|---|---|\n",
    "|1\t|$\\frac{N}{2}$ |\n",
    "|2\t|$\\frac{\\frac{N}{2}}{2} = \\frac{N}{2^2}$|\n",
    "|3\t|$\\frac{N}{2^3}$|\n",
    "|...\t|...|\n",
    "|K\t|$\\frac{N}{2^K}$|\n",
    "\n",
    "\n",
    "从上表可以看出$\\frac{N}{2^K}$肯定是大于等于1。因为被查收链表中元素的数量是有限的，**“剩余待查询元素数量”**肯定是一个大于等于1的数值。因为查到剩余元素等于1的时候也就是查到最后一个值了，也就是说查到了。\n",
    "\n",
    "因此也就是$\\frac{N}{2^K} >= 1$，我们计算时间复杂度是按照最坏的情况进行计算，也就是是查到剩余最后一个数才查到我们想要的数据，也就是$\\frac{N}{2^K} = 1 \\Rightarrow N=2^K \\Rightarrow K=log_2 N$。\n",
    "\n",
    "所以二分查找的时间复杂度为$O(log_2 N)$。"
   ]
  },
  {
   "cell_type": "code",
   "execution_count": 2,
   "metadata": {},
   "outputs": [
    {
     "data": {
      "text/plain": [
       "[55, 73, 11, 42, 66, 81, 90, 29, 25, 87]"
      ]
     },
     "execution_count": 2,
     "metadata": {},
     "output_type": "execute_result"
    }
   ],
   "source": [
    "import random\n",
    "[random.randint(1, 100) for _ in range(10)]"
   ]
  },
  {
   "cell_type": "code",
   "execution_count": null,
   "metadata": {},
   "outputs": [
    {
     "name": "stdout",
     "output_type": "stream",
     "text": [
      "[3, 12, 16, 17, 17, 19, 20, 21, 33, 34, 38, 39, 43, 48, 54, 55, 68, 82, 87, 88]\n",
      "mid value 38.\n",
      ">\n",
      "mid value 19.\n",
      ">\n",
      "mid value 16.\n",
      "<\n",
      "mid value 17.\n",
      "result 17\n",
      "17 4\n"
     ]
    }
   ],
   "source": [
    "# import random\n",
    "# inputlist = [1,2,3,4,5,6,7,8,9]\n",
    "# [random.randint(1, 100) for _ in range(20)]\n",
    "inputlist = [3, 12, 16, 17, 17, 19, 20, 21, 33, 34, 38, 39, 43, 48, 54, 55, 68, 82, 87, 88]\n",
    "\n",
    "inputlist.sort()\n",
    "print(inputlist)\n",
    "count = 0\n",
    "\n",
    "def binary_search(inputlist, target):\n",
    "    \"\"\"_summary_\n",
    "    target 一定要存在于inputlist中，不然会崩溃。\n",
    "    Args:\n",
    "        inputlist (_type_): _description_\n",
    "        target (_type_): _description_\n",
    "\n",
    "    Returns:\n",
    "        _type_: _description_\n",
    "    \"\"\"\n",
    "    global count\n",
    "    length = len(inputlist)\n",
    "    # print(length)\n",
    "\n",
    "    midposition = length // 2\n",
    "    midvalue = inputlist[midposition]\n",
    "    print('mid value {}.'.format(midvalue))\n",
    "    count += 1\n",
    "    if midvalue == target:\n",
    "        print('result {}'.format(midvalue))\n",
    "        return midvalue\n",
    "    else:\n",
    "        if midvalue < target:\n",
    "            print('<')\n",
    "            return binary_search(inputlist[midposition:], target)\n",
    "        else:\n",
    "            print('>')\n",
    "            return binary_search(inputlist[:midposition], target)\n",
    "    \n",
    "result = binary_search(inputlist, 17)\n",
    "print(result, count)\n"
   ]
  },
  {
   "cell_type": "markdown",
   "metadata": {},
   "source": [
    "## 深度优先"
   ]
  },
  {
   "cell_type": "markdown",
   "metadata": {},
   "source": [
    "## 广度优先"
   ]
  },
  {
   "cell_type": "markdown",
   "metadata": {},
   "source": [
    "# <a id='toc2_'></a>[数据结构](#toc0_)"
   ]
  },
  {
   "cell_type": "markdown",
   "metadata": {},
   "source": [
    "## <a id='toc2_1_'></a>[链表](#toc0_)"
   ]
  },
  {
   "cell_type": "markdown",
   "metadata": {},
   "source": [
    "#### <a id='toc2_1_1_1_'></a>[单向链表](#toc0_)\n",
    "\n",
    "每个节点包含数据和指向下一个节点的指针。"
   ]
  },
  {
   "cell_type": "code",
   "execution_count": null,
   "metadata": {},
   "outputs": [
    {
     "name": "stdout",
     "output_type": "stream",
     "text": [
      "1 -> 2 -> 3 -> None\n"
     ]
    }
   ],
   "source": [
    "class ListNode:\n",
    "    def __init__(self, val=0, next=None):\n",
    "        self.val = val\n",
    "        self.next = next\n",
    "\n",
    "class LinkedList:\n",
    "    def __init__(self):\n",
    "        self.head = None\n",
    "\n",
    "    # 在链表末尾添加节点\n",
    "    def append(self, val):\n",
    "        # 创建一个新节点。\n",
    "        new_node = ListNode(val)\n",
    "        # 如果头节点不存在。\n",
    "        if not self.head:\n",
    "            # 那么头结点就等于新节点。\n",
    "            self.head = new_node\n",
    "            return\n",
    "        # 如果头结点存在。\n",
    "        # 设置一个临时变量为指向当前节点。\n",
    "        cur = self.head\n",
    "        # 那么就找到最后一个节点，然后将最后一个节点的next指向新节点。\n",
    "        # 向后找每一个节点的next，直到某个节点的next为none时终止。此时cur指向的是最后一个节点。\n",
    "        while cur.next:\n",
    "            cur = cur.next\n",
    "        cur.next = new_node\n",
    "\n",
    "    # 打印链表\n",
    "    def print_list(self):\n",
    "        cur = self.head\n",
    "        while cur:\n",
    "            print(cur.val, end=\" -> \")\n",
    "            cur = cur.next\n",
    "        print(\"None\")\n",
    "\n",
    "# 测试\n",
    "ll = LinkedList()\n",
    "ll.append(1)\n",
    "ll.append(2)\n",
    "ll.append(3)\n",
    "ll.print_list()  # 输出: 1 -> 2 -> 3 -> None\n"
   ]
  },
  {
   "cell_type": "markdown",
   "metadata": {},
   "source": [
    "#### <a id='toc2_1_1_2_'></a>[双向链表](#toc0_)\n",
    "\n",
    "双向链表的特点：\n",
    "- 每个节点有两个指针：一个指向前驱 prev，一个指向后继 next。\n",
    "- 可以从头到尾，也可以从尾到头遍历。\n",
    "- 插入和删除更灵活，但比单链表多占用一点内存。"
   ]
  },
  {
   "cell_type": "code",
   "execution_count": null,
   "metadata": {},
   "outputs": [
    {
     "name": "stdout",
     "output_type": "stream",
     "text": [
      "正向遍历:\n",
      "1 ⇄ 2 ⇄ 3 ⇄ None\n",
      "反向遍历:\n",
      "3 ⇄ 2 ⇄ 1 ⇄ None\n",
      "删除节点 2\n",
      "1 ⇄ 3 ⇄ None\n"
     ]
    }
   ],
   "source": [
    "class ListNode:\n",
    "    \"\"\"双向链表的节点\"\"\"\n",
    "    def __init__(self, val=0):\n",
    "        self.val = val\n",
    "        self.prev = None  # 指向前一个节点\n",
    "        self.next = None  # 指向后一个节点\n",
    "\n",
    "class DoublyLinkedList:\n",
    "    \"\"\"双向链表\"\"\"\n",
    "    def __init__(self):\n",
    "        # 注意初始化定义的是头和尾两个节点。\n",
    "        self.head = None  # 头节点\n",
    "        self.tail = None  # 尾节点\n",
    "\n",
    "    def append(self, val):\n",
    "        \"\"\"尾部插入新节点\"\"\"\n",
    "        new_node = ListNode(val)\n",
    "        # 如果链表为空，也就是头节点为空。\n",
    "        # 那么头节点和尾节点都指向新节点。\n",
    "        if not self.head:\n",
    "            self.head = self.tail = new_node\n",
    "        else:\n",
    "            # 如果头节点存在。\n",
    "            # 那么尾节点的next指向新节点。\n",
    "            self.tail.next = new_node\n",
    "            # 新节点的prev指向尾节点。\n",
    "            new_node.prev = self.tail\n",
    "            self.tail = new_node  # 更新尾节点\n",
    "\n",
    "    def delete(self, val):\n",
    "        \"\"\"删除值为 val 的节点\"\"\"\n",
    "        cur = self.head\n",
    "        while cur:\n",
    "            if cur.val == val:\n",
    "                if cur.prev:\n",
    "                    cur.prev.next = cur.next\n",
    "                else:  # 删除头节点\n",
    "                    self.head = cur.next\n",
    "                if cur.next:\n",
    "                    cur.next.prev = cur.prev\n",
    "                else:  # 删除尾节点\n",
    "                    self.tail = cur.prev\n",
    "                return True  # 删除成功\n",
    "            cur = cur.next\n",
    "        return False  # 未找到\n",
    "\n",
    "    def traverse_forward(self):\n",
    "        \"\"\"正向遍历链表\"\"\"\n",
    "        cur = self.head\n",
    "        while cur:\n",
    "            print(cur.val, end=\" ⇄ \")\n",
    "            cur = cur.next\n",
    "        print(\"None\")\n",
    "\n",
    "    def traverse_backward(self):\n",
    "        \"\"\"反向遍历链表\"\"\"\n",
    "        cur = self.tail\n",
    "        while cur:\n",
    "            print(cur.val, end=\" ⇄ \")\n",
    "            cur = cur.prev\n",
    "        print(\"None\")\n",
    "\n",
    "# 测试\n",
    "dll = DoublyLinkedList()\n",
    "dll.append(1)\n",
    "dll.append(2)\n",
    "dll.append(3)\n",
    "print(\"正向遍历:\")\n",
    "dll.traverse_forward()  # 1 ⇄ 2 ⇄ 3 ⇄ None\n",
    "print(\"反向遍历:\")\n",
    "dll.traverse_backward()  # 3 ⇄ 2 ⇄ 1 ⇄ None\n",
    "\n",
    "print(\"删除节点 2\")\n",
    "dll.delete(2)\n",
    "dll.traverse_forward()  # 1 ⇄ 3 ⇄ None\n"
   ]
  },
  {
   "cell_type": "markdown",
   "metadata": {},
   "source": [
    "## <a id='toc2_2_'></a>[栈](#toc0_)\n",
    "\n",
    "栈是一种**后进先出（LIFO）**的数据结构，可以用 Python 列表 或 自定义链表 实现。"
   ]
  },
  {
   "cell_type": "code",
   "execution_count": null,
   "metadata": {},
   "outputs": [
    {
     "name": "stdout",
     "output_type": "stream",
     "text": [
      "3\n",
      "2\n",
      "2\n"
     ]
    }
   ],
   "source": [
    "class Stack:\n",
    "    def __init__(self):\n",
    "        self.stack = []\n",
    "\n",
    "    def push(self, val):\n",
    "        # 进栈。\n",
    "        self.stack.append(val)\n",
    "\n",
    "    def pop(self):\n",
    "        # 从栈顶删除元素。也就是出栈。\n",
    "        # list.pop() 的默认值是删除最后一个元素。\n",
    "        if not self.is_empty():\n",
    "            return self.stack.pop()\n",
    "        return None\n",
    "\n",
    "    def peek(self):\n",
    "        # 看最后一个元素是什么元素。\n",
    "        if not self.is_empty():\n",
    "            return self.stack[-1]\n",
    "        return None\n",
    "\n",
    "    def is_empty(self):\n",
    "        return len(self.stack) == 0\n",
    "\n",
    "# 测试\n",
    "s = Stack()\n",
    "s.push(1)\n",
    "s.push(2)\n",
    "s.push(3)\n",
    "print(s.pop())  # 输出: 3\n",
    "print(s.peek())  # 输出: 2\n",
    "print(s.peek())"
   ]
  },
  {
   "cell_type": "markdown",
   "metadata": {},
   "source": [
    "## <a id='toc2_3_'></a>[队列（Queue）](#toc0_)\n",
    "\n",
    "队列是一种**先进先出（FIFO）**的数据结构。\n",
    "\n",
    "使用 collections.deque（推荐）方法实现。"
   ]
  },
  {
   "cell_type": "code",
   "execution_count": null,
   "metadata": {},
   "outputs": [
    {
     "name": "stdout",
     "output_type": "stream",
     "text": [
      "1\n",
      "2\n"
     ]
    }
   ],
   "source": [
    "from collections import deque\n",
    "\n",
    "class Queue:\n",
    "    def __init__(self):\n",
    "        self.queue = deque()\n",
    "\n",
    "    def enqueue(self, val):\n",
    "        # 进入队列。\n",
    "        self.queue.append(val)\n",
    "\n",
    "    def dequeue(self):\n",
    "        # 出队列。\n",
    "        if not self.is_empty():\n",
    "            return self.queue.popleft()\n",
    "        return None\n",
    "\n",
    "    def is_empty(self):\n",
    "        return len(self.queue) == 0\n",
    "\n",
    "# 测试\n",
    "q = Queue()\n",
    "q.enqueue(1)\n",
    "q.enqueue(2)\n",
    "q.enqueue(3)\n",
    "print(q.dequeue())  # 输出: 1\n",
    "print(q.dequeue())  # 输出: 2\n"
   ]
  },
  {
   "cell_type": "markdown",
   "metadata": {},
   "source": [
    "## <a id='toc2_4_'></a>[哈希表](#toc0_)\n",
    "\n",
    "Python 内置 dict 就是哈希表。\n",
    "\n",
    "- 时间复杂度：插入/查找/删除 平均 O(1)，最坏情况 O(N)（哈希冲突）。"
   ]
  },
  {
   "cell_type": "code",
   "execution_count": 1,
   "metadata": {},
   "outputs": [
    {
     "name": "stdout",
     "output_type": "stream",
     "text": [
      "10\n",
      "None\n"
     ]
    }
   ],
   "source": [
    "class HashMap:\n",
    "    def __init__(self, size=100):\n",
    "        self.size = size\n",
    "        self.table = [[] for _ in range(size)]  # 解决冲突：链地址法\n",
    "\n",
    "    def _hash(self, key):\n",
    "        return hash(key) % self.size\n",
    "\n",
    "    def put(self, key, value):\n",
    "        index = self._hash(key)\n",
    "        for pair in self.table[index]:\n",
    "            if pair[0] == key:\n",
    "                pair[1] = value  # 更新值\n",
    "                return\n",
    "        self.table[index].append([key, value])\n",
    "\n",
    "    def get(self, key):\n",
    "        index = self._hash(key)\n",
    "        for pair in self.table[index]:\n",
    "            if pair[0] == key:\n",
    "                return pair[1]\n",
    "        return None\n",
    "\n",
    "    def remove(self, key):\n",
    "        index = self._hash(key)\n",
    "        self.table[index] = [pair for pair in self.table[index] if pair[0] != key]\n",
    "\n",
    "# 测试\n",
    "hm = HashMap()\n",
    "hm.put(\"apple\", 10)\n",
    "hm.put(\"banana\", 20)\n",
    "print(hm.get(\"apple\"))  # 输出: 10\n",
    "hm.remove(\"apple\")\n",
    "print(hm.get(\"apple\"))  # 输出: None\n"
   ]
  },
  {
   "cell_type": "markdown",
   "metadata": {},
   "source": [
    "## <a id='toc2_5_'></a>[堆（Heap）](#toc0_)\n",
    "\n",
    "堆是一种完全二叉树（Complete Binary Tree），满足堆属性：\n",
    "\n",
    "- 最小堆（Min Heap）：父节点的值 ≤ 子节点的值（根是最小值）。\n",
    "- 最大堆（Max Heap）：父节点的值 ≥ 子节点的值（根是最大值）。\n",
    "\n",
    "Python 内置 heapq 模块 提供最小堆，如果需要最大堆，可以用负数存储模拟。\n",
    "\n",
    "### <a id='toc2_5_1_'></a>[应用场景](#toc0_)\n",
    "- 最小/最大值动态维护：\n",
    "  - 优先队列（Priority Queue）：任务调度、Dijkstra 最短路径。\n",
    "  - Top-K 统计（如前 K 大元素）。\n",
    "  - 中位数维护（双堆算法）。"
   ]
  },
  {
   "cell_type": "markdown",
   "metadata": {},
   "source": [
    "### <a id='toc2_5_2_'></a>[最小堆](#toc0_)\n",
    "\n",
    "特点：\n",
    "- heappush(heap, val)：插入元素，保持堆性质 $O(logN)$。\n",
    "- heappop(heap)：弹出最小值，调整堆 $O(logN)$。\n",
    "- heap[0]：获取最小元素$O(1)$（但不删除）。"
   ]
  },
  {
   "cell_type": "code",
   "execution_count": 2,
   "metadata": {},
   "outputs": [
    {
     "name": "stdout",
     "output_type": "stream",
     "text": [
      "[1, 2, 4, 3]\n",
      "1\n",
      "2\n"
     ]
    }
   ],
   "source": [
    "import heapq\n",
    "\n",
    "# 创建一个最小堆\n",
    "min_heap = []\n",
    "heapq.heappush(min_heap, 3)\n",
    "heapq.heappush(min_heap, 1)\n",
    "heapq.heappush(min_heap, 4)\n",
    "heapq.heappush(min_heap, 2)\n",
    "\n",
    "print(min_heap)  # 输出: [1, 2, 4, 3]（最小堆结构）\n",
    "\n",
    "# 取出最小元素\n",
    "print(heapq.heappop(min_heap))  # 输出: 1\n",
    "print(heapq.heappop(min_heap))  # 输出: 2\n"
   ]
  },
  {
   "cell_type": "markdown",
   "metadata": {},
   "source": [
    "### <a id='toc2_5_3_'></a>[最大堆](#toc0_)\n",
    "\n",
    "heapq 只支持最小堆，可以存储负数来模拟最大堆：\n",
    "\n",
    "原理：\n",
    "- val 入堆，Python 按最小堆维护 绝对值最大 的数。\n",
    "- heapq.heappop(heap) 取反还原最大值。"
   ]
  },
  {
   "cell_type": "code",
   "execution_count": 3,
   "metadata": {},
   "outputs": [
    {
     "name": "stdout",
     "output_type": "stream",
     "text": [
      "4\n",
      "3\n"
     ]
    }
   ],
   "source": [
    "import heapq\n",
    "\n",
    "max_heap = []\n",
    "heapq.heappush(max_heap, -3)  # 存储负数\n",
    "heapq.heappush(max_heap, -1)\n",
    "heapq.heappush(max_heap, -4)\n",
    "heapq.heappush(max_heap, -2)\n",
    "\n",
    "print(-heapq.heappop(max_heap))  # 输出: 4（最大值）\n",
    "print(-heapq.heappop(max_heap))  # 输出: 3\n"
   ]
  },
  {
   "cell_type": "markdown",
   "metadata": {},
   "source": [
    "### <a id='toc2_5_4_'></a>[手写堆（最大堆实现）](#toc0_)\n",
    "heapq 适用于大多数情况，但可以手写 二叉堆 进行完整控制。\n",
    "\n",
    "- 时间复杂度：\n",
    "  - 插入：O(logN)（上浮 sift_up）。\n",
    "  - 删除最大值：O(logN)（下沉 sift_down）。\n",
    "  - 获取最大值：O(1)（heap[0]）。"
   ]
  },
  {
   "cell_type": "code",
   "execution_count": 4,
   "metadata": {},
   "outputs": [
    {
     "name": "stdout",
     "output_type": "stream",
     "text": [
      "4\n",
      "3\n"
     ]
    }
   ],
   "source": [
    "class MaxHeap:\n",
    "    def __init__(self):\n",
    "        self.heap = []\n",
    "\n",
    "    def push(self, val):\n",
    "        \"\"\"插入元素\"\"\"\n",
    "        self.heap.append(val)\n",
    "        self._sift_up(len(self.heap) - 1)\n",
    "\n",
    "    def pop(self):\n",
    "        \"\"\"弹出最大值\"\"\"\n",
    "        if len(self.heap) == 1:\n",
    "            return self.heap.pop()\n",
    "        max_val = self.heap[0]\n",
    "        self.heap[0] = self.heap.pop()\n",
    "        self._sift_down(0)\n",
    "        return max_val\n",
    "\n",
    "    def _sift_up(self, index):\n",
    "        \"\"\"上浮操作\"\"\"\n",
    "        parent = (index - 1) // 2\n",
    "        while index > 0 and self.heap[parent] < self.heap[index]:\n",
    "            self.heap[parent], self.heap[index] = self.heap[index], self.heap[parent]\n",
    "            index = parent\n",
    "            parent = (index - 1) // 2\n",
    "\n",
    "    def _sift_down(self, index):\n",
    "        \"\"\"下沉操作\"\"\"\n",
    "        size = len(self.heap)\n",
    "        while index * 2 + 1 < size:\n",
    "            left = index * 2 + 1\n",
    "            right = index * 2 + 2\n",
    "            largest = left\n",
    "            if right < size and self.heap[right] > self.heap[left]:\n",
    "                largest = right\n",
    "            if self.heap[index] >= self.heap[largest]:\n",
    "                break\n",
    "            self.heap[index], self.heap[largest] = self.heap[largest], self.heap[index]\n",
    "            index = largest\n",
    "\n",
    "# 测试\n",
    "max_heap = MaxHeap()\n",
    "max_heap.push(3)\n",
    "max_heap.push(1)\n",
    "max_heap.push(4)\n",
    "max_heap.push(2)\n",
    "\n",
    "print(max_heap.pop())  # 输出: 4\n",
    "print(max_heap.pop())  # 输出: 3\n"
   ]
  },
  {
   "cell_type": "markdown",
   "metadata": {},
   "source": [
    "## <a id='toc2_6_'></a>[几种数据结构总结](#toc0_)\n",
    "\n",
    "\n",
    "|数据结构\t|Python 实现|\t适用场景|\n",
    "|---|---|---|\n",
    "|链表\t|class ListNode\t|需要动态增删元素|\n",
    "|栈\t|list.append()/pop()\t|后进先出（LIFO）|\n",
    "|队列\t|collections.deque()\t|先进先出（FIFO）|\n",
    "|哈希表\t|dict\t|快速查找，键值存储|\n",
    "|堆 heap|heapq能实现最小堆|实际上就是完全二叉树|"
   ]
  },
  {
   "cell_type": "markdown",
   "metadata": {},
   "source": [
    "## 二叉树\n",
    "\n",
    "构造二叉树：\n",
    "       1\n",
    "      / \\\n",
    "     2   3\n",
    "    / \\   \\\n",
    "   4   5   6"
   ]
  },
  {
   "cell_type": "markdown",
   "metadata": {},
   "source": [
    "### 二叉树的三种深度优先遍历\n",
    "#### 递归写法"
   ]
  },
  {
   "cell_type": "code",
   "execution_count": 1,
   "metadata": {},
   "outputs": [
    {
     "name": "stdout",
     "output_type": "stream",
     "text": [
      "DFS - 先序遍历: 1 2 4 5 3 6 \n",
      "DFS - 中序遍历: 4 2 5 1 3 6 \n",
      "DFS - 后序遍历: 4 5 2 6 3 1 "
     ]
    }
   ],
   "source": [
    "class TreeNode:\n",
    "    def __init__(self, val=0, left=None, right=None):\n",
    "        self.val = val\n",
    "        self.left = left\n",
    "        self.right = right\n",
    "\n",
    "def preorder_dfs(node):  # 先序遍历\n",
    "    if not node:\n",
    "        return\n",
    "    print(node.val, end=\" \")  # 访问当前节点\n",
    "    preorder_dfs(node.left)   # 递归遍历左子树\n",
    "    preorder_dfs(node.right)  # 递归遍历右子树\n",
    "\n",
    "def inorder_dfs(node):  # 中序遍历\n",
    "    if not node:\n",
    "        return\n",
    "    inorder_dfs(node.left)\n",
    "    print(node.val, end=\" \")  # 访问当前节点\n",
    "    inorder_dfs(node.right)\n",
    "\n",
    "def postorder_dfs(node):  # 后序遍历\n",
    "    if not node:\n",
    "        return\n",
    "    postorder_dfs(node.left)\n",
    "    postorder_dfs(node.right)\n",
    "    print(node.val, end=\" \")  # 访问当前节点\n",
    "\n",
    "# 构造二叉树：\n",
    "#        1\n",
    "#       / \\\n",
    "#      2   3\n",
    "#     / \\   \\\n",
    "#    4   5   6\n",
    "root = TreeNode(1, TreeNode(2, TreeNode(4), TreeNode(5)), TreeNode(3, None, TreeNode(6)))\n",
    "\n",
    "print(\"DFS - 先序遍历: \", end=\"\")\n",
    "preorder_dfs(root)\n",
    "print(\"\\nDFS - 中序遍历: \", end=\"\")\n",
    "inorder_dfs(root)\n",
    "print(\"\\nDFS - 后序遍历: \", end=\"\")\n",
    "postorder_dfs(root)\n"
   ]
  },
  {
   "cell_type": "code",
   "execution_count": 2,
   "metadata": {},
   "outputs": [
    {
     "name": "stdout",
     "output_type": "stream",
     "text": [
      "DFS - 先序遍历: 1 2 4 5 8 9 3 6 10 7 11 "
     ]
    }
   ],
   "source": [
    "root = TreeNode(1, TreeNode(2, TreeNode(4), TreeNode(5, TreeNode(8), TreeNode(9))), TreeNode(3, TreeNode(6, TreeNode(10), None), TreeNode(7, None, TreeNode(11))))\n",
    "\n",
    "print(\"DFS - 先序遍历: \", end=\"\")\n",
    "preorder_dfs(root)"
   ]
  },
  {
   "cell_type": "markdown",
   "metadata": {},
   "source": [
    "#### 非递归写法"
   ]
  },
  {
   "cell_type": "code",
   "execution_count": 1,
   "metadata": {},
   "outputs": [
    {
     "name": "stdout",
     "output_type": "stream",
     "text": [
      "DFS - 先序遍历: 1 2 4 5 3 6 "
     ]
    }
   ],
   "source": [
    "class TreeNode:\n",
    "    def __init__(self, val=0, left=None, right=None):\n",
    "        self.val = val\n",
    "        self.left = left\n",
    "        self.right = right\n",
    "\n",
    "def preorder_dfs(root):\n",
    "    if not root:\n",
    "        return\n",
    "    stack = [root]  # 栈初始化，存入根节点\n",
    "    while stack:\n",
    "        node = stack.pop()  # 取出栈顶节点\n",
    "        print(node.val, end=\" \")\n",
    "        if node.right:\n",
    "            stack.append(node.right)  # 右子节点入栈\n",
    "        if node.left:\n",
    "            stack.append(node.left)  # 左子节点入栈（保证先访问左子树）\n",
    "\n",
    "# 构造二叉树\n",
    "#        1\n",
    "#       / \\\n",
    "#      2   3\n",
    "#     / \\   \\\n",
    "#    4   5   6\n",
    "root = TreeNode(1, TreeNode(2, TreeNode(4), TreeNode(5)), TreeNode(3, None, TreeNode(6)))\n",
    "\n",
    "print(\"DFS - 先序遍历: \", end=\"\")\n",
    "preorder_dfs(root)\n"
   ]
  },
  {
   "cell_type": "code",
   "execution_count": 2,
   "metadata": {},
   "outputs": [
    {
     "name": "stdout",
     "output_type": "stream",
     "text": [
      "\n",
      "DFS - 中序遍历: 4 2 5 1 3 6 "
     ]
    }
   ],
   "source": [
    "def inorder_dfs(root):\n",
    "    stack = []\n",
    "    node = root\n",
    "    while stack or node:\n",
    "        while node:  # 先一直深入左子树\n",
    "            stack.append(node)\n",
    "            node = node.left\n",
    "        node = stack.pop()  # 访问当前节点\n",
    "        print(node.val, end=\" \")\n",
    "        node = node.right  # 进入右子树\n",
    "\n",
    "print(\"\\nDFS - 中序遍历: \", end=\"\")\n",
    "inorder_dfs(root)\n"
   ]
  },
  {
   "cell_type": "code",
   "execution_count": 3,
   "metadata": {},
   "outputs": [
    {
     "name": "stdout",
     "output_type": "stream",
     "text": [
      "DFS - 后序遍历: 4 5 2 6 3 1\n"
     ]
    }
   ],
   "source": [
    "def postorder_dfs(root):\n",
    "    if not root:\n",
    "        return\n",
    "    stack, result = [root], []\n",
    "    while stack:\n",
    "        node = stack.pop()\n",
    "        result.append(node.val)  # 先加入根\n",
    "        if node.left:\n",
    "            stack.append(node.left)  # 先加入左\n",
    "        if node.right:\n",
    "            stack.append(node.right)  # 再加入右\n",
    "    print(\" \".join(map(str, result[::-1])))  # 反转结果\n",
    "\n",
    "print(\"DFS - 后序遍历: \", end=\"\")\n",
    "postorder_dfs(root)\n"
   ]
  },
  {
   "cell_type": "markdown",
   "metadata": {},
   "source": [
    "### 二叉树广度优先遍历"
   ]
  },
  {
   "cell_type": "code",
   "execution_count": 3,
   "metadata": {},
   "outputs": [
    {
     "name": "stdout",
     "output_type": "stream",
     "text": [
      "BFS - 层序遍历: 1 2 3 4 5 6 "
     ]
    }
   ],
   "source": [
    "class TreeNode:\n",
    "    def __init__(self, val=0, left=None, right=None):\n",
    "        self.val = val\n",
    "        self.left = left\n",
    "        self.right = right\n",
    "\n",
    "def bfs_level_order(root):\n",
    "    if not root:\n",
    "        return\n",
    "    queue = [root]  # 使用列表模拟队列\n",
    "    while queue:\n",
    "        node = queue.pop(0)  # 取出队列头部元素\n",
    "        print(node.val, end=\" \")\n",
    "        if node.left:\n",
    "            queue.append(node.left)   # 左子节点入队\n",
    "        if node.right:\n",
    "            queue.append(node.right)  # 右子节点入队\n",
    "\n",
    "# 构造二叉树：\n",
    "#        1\n",
    "#       / \\\n",
    "#      2   3\n",
    "#     / \\   \\\n",
    "#    4   5   6\n",
    "root = TreeNode(1, TreeNode(2, TreeNode(4), TreeNode(5)), TreeNode(3, None, TreeNode(6)))\n",
    "\n",
    "print(\"BFS - 层序遍历: \", end=\"\")\n",
    "bfs_level_order(root)\n"
   ]
  }
 ],
 "metadata": {
  "kernelspec": {
   "display_name": "Python 3",
   "language": "python",
   "name": "python3"
  },
  "language_info": {
   "codemirror_mode": {
    "name": "ipython",
    "version": 3
   },
   "file_extension": ".py",
   "mimetype": "text/x-python",
   "name": "python",
   "nbconvert_exporter": "python",
   "pygments_lexer": "ipython3",
   "version": "3.9.13"
  }
 },
 "nbformat": 4,
 "nbformat_minor": 2
}
